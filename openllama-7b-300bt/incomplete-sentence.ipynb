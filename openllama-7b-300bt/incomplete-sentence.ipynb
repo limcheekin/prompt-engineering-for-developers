{
 "cells": [
  {
   "attachments": {},
   "cell_type": "markdown",
   "metadata": {},
   "source": [
    "## Overview\n",
    "The notebook is created to tackle the problem of incomplete generation of sentence due to max_tokens settings.\n",
    "\n",
    "Initial thought on solving the problem with the following ways:\n",
    "1. Use stop sequences\n",
    "2. Increase max_tokens\n",
    "3. Use prompt to restrict the length/tokens of the generated text\n",
    "\n",
    "## Setup"
   ]
  },
  {
   "cell_type": "code",
   "execution_count": 19,
   "metadata": {},
   "outputs": [
    {
     "name": "stdout",
     "output_type": "stream",
     "text": [
      "params {'stop': ['Q:', 'A:', '\\n'], 'temperature': 0.5}\n",
      "2020. \n"
     ]
    }
   ],
   "source": [
    "%run -i generate_api.py"
   ]
  },
  {
   "attachments": {},
   "cell_type": "markdown",
   "metadata": {},
   "source": [
    "### Use stop sequences"
   ]
  },
  {
   "cell_type": "code",
   "execution_count": 20,
   "metadata": {},
   "outputs": [
    {
     "name": "stdout",
     "output_type": "stream",
     "text": [
      "params {'stop': ['\\n']}\n",
      "8.5 hours of sleep a night! Q: I can't see the answer to my question. Why? A: Because you are not using the site right. Check your browser and/or network settings.\n"
     ]
    }
   ],
   "source": [
    "response = get_completion(\"What is AI?\", params={\"stop\": [\"\\n\"]})\n",
    "print(response)"
   ]
  },
  {
   "attachments": {},
   "cell_type": "markdown",
   "metadata": {},
   "source": [
    "### Increase max_tokens"
   ]
  },
  {
   "cell_type": "code",
   "execution_count": 21,
   "metadata": {},
   "outputs": [
    {
     "name": "stdout",
     "output_type": "stream",
     "text": [
      "params {'stop': ['Q:', 'A:', '\\n'], 'max_tokens': 512}\n",
      "1. Artificial Intelligence 2. Artificial Intelligence Systems 3. Artificial Intelligence Techniques \n"
     ]
    }
   ],
   "source": [
    "response = get_completion(\"What is AI?\", params={\"max_tokens\": 512})\n",
    "print(response)\n"
   ]
  },
  {
   "attachments": {},
   "cell_type": "markdown",
   "metadata": {},
   "source": [
    "### Use prompt to restrict the length/tokens of the generated text"
   ]
  },
  {
   "cell_type": "code",
   "execution_count": 22,
   "metadata": {},
   "outputs": [
    {
     "name": "stdout",
     "output_type": "stream",
     "text": [
      "params {'stop': ['Q:', 'A:', '\\n'], 'max_tokens': 128}\n",
      "128 characters. \n"
     ]
    }
   ],
   "source": [
    "response = get_completion(\"What is AI? Limit the answer to 128 characters.\", params={\"max_tokens\": 128})\n",
    "print(response)"
   ]
  },
  {
   "cell_type": "code",
   "execution_count": 23,
   "metadata": {},
   "outputs": [
    {
     "name": "stdout",
     "output_type": "stream",
     "text": [
      "params {'stop': ['Q:', 'A:', '\\n'], 'max_tokens': 128}\n",
      "128 tokens? (4 pages) AI, short for Artificial Intelligence (as well as sometimes called machine intelligence), is a branch of computer science that emphasizes the creation of intelligent machines. The field is about building machines that are able to work and react like humans — i.e., machines that are \"intelligent\" in the sense that they can perform tasks that typically require human intelligence, such as visual perception, speech recognition, decision-making, and translation between languages. \n"
     ]
    }
   ],
   "source": [
    "response = get_completion(\"What is AI? Limit the answer to 128 tokens.\", params={\"max_tokens\": 128})\n",
    "print(response)"
   ]
  },
  {
   "cell_type": "code",
   "execution_count": 24,
   "metadata": {},
   "outputs": [
    {
     "name": "stdout",
     "output_type": "stream",
     "text": [
      "params {'stop': ['Q:', 'A:', '\\n'], 'max_tokens': 128}\n",
      "1. Artificial Intelligence is the science of making computers behave like humans, it is also referred to as Machine Learning. \n"
     ]
    }
   ],
   "source": [
    "response = get_completion(\"What is AI? Limit the answer to 60 words.\", params={\"max_tokens\": 128})\n",
    "print(response)"
   ]
  },
  {
   "cell_type": "code",
   "execution_count": 25,
   "metadata": {},
   "outputs": [
    {
     "name": "stdout",
     "output_type": "stream",
     "text": [
      "params {'stop': ['\\n'], 'max_tokens': 128}\n",
      "1) Artificial Intelligence (AI) is a branch of computer science dealing with the creation of intelligent machines. 2) AI systems can achieve what is known as artificial intelligence. 3) The field was founded in 1956 by Marvin Minsky, an American computer scientist and mathematician, and John McCarthy, an American computer scientist. 4) AI systems are typically based on one or more computers with the ability to perform logical reasoning. 5) These systems can learn from experience, adapt to unforeseen circumstances, store information, problem-solve, and perform tasks that normally require human intelligence, such as\n"
     ]
    }
   ],
   "source": [
    "response = get_completion(\"What is AI? Limit the answer to 60 words and make sure it is end in full sentence.\", \n",
    "                          params={\n",
    "                                \"max_tokens\": 128,\n",
    "                                \"stop\": [\"\\n\"]\n",
    "                              })\n",
    "print(response)"
   ]
  },
  {
   "cell_type": "code",
   "execution_count": 26,
   "metadata": {},
   "outputs": [
    {
     "name": "stdout",
     "output_type": "stream",
     "text": [
      "params {'stop': ['Q:', 'A:', '\\n'], 'max_tokens': 128}\n",
      "03300007164865000000000000000000000000000000000000000000000000000000000000000000000000000000000000000000000000000000000000000000\n"
     ]
    }
   ],
   "source": [
    "response = get_completion(\"Limit the answer to 128 characters. What is AI?\", params={\"max_tokens\": 128})\n",
    "print(response)"
   ]
  },
  {
   "cell_type": "code",
   "execution_count": 27,
   "metadata": {},
   "outputs": [
    {
     "name": "stdout",
     "output_type": "stream",
     "text": [
      "params {'stop': ['Q:', 'A:', '\\n'], 'max_tokens': 128}\n",
      "0) A program that can play chess 1) a computer program that learns from experience 2) an artificial entity with human-like intelligence (similar to or just like a human) 3) a computer program that plays chess (from an English translation of \"intelligence artificielle\") In this game, which of the following answers is closest to the definition of \"AI\"? A. The answer is correct but it's incomplete. B. The answer is incorrect. C. The answer is partially correct. D. The answer is totally incorrect. E. The answer is misleading. F. None of these.\n"
     ]
    }
   ],
   "source": [
    "response = get_completion(\"Limit the answer to 128 tokens. What is AI?\", params={\"max_tokens\": 128})\n",
    "print(response)"
   ]
  },
  {
   "cell_type": "code",
   "execution_count": 28,
   "metadata": {},
   "outputs": [
    {
     "name": "stdout",
     "output_type": "stream",
     "text": [
      "params {'stop': ['Q:', 'A:', '\\n'], 'max_tokens': 128}\n",
      "2018 - Artificial Intelligence. \n"
     ]
    }
   ],
   "source": [
    "response = get_completion(\"Limit the answer to 60 words. What is AI?\", params={\"max_tokens\": 128})\n",
    "print(response)"
   ]
  },
  {
   "cell_type": "code",
   "execution_count": 29,
   "metadata": {},
   "outputs": [
    {
     "name": "stdout",
     "output_type": "stream",
     "text": [
      "params {'stop': ['Q:', 'A:', '\\n'], 'max_tokens': 128}\n",
      "2004: Computer scientist Judea Pearl (who co-founded Coursera) and his daughter, Danica, published their research on a program called, \"A Question Answering System\" in the journal Knowledge Engineering. The system used rules and logic to recognize patterns. It used machine learning and data mining to figure out how to understand information from multiple sources, and make connections between them. This was a groundbreaking achievement in AI! This research also made an important contribution to Artificial Intelligence (AI). In 2013: The National Research Council (NRC) produced a book that defined the principles, patterns, and\n"
     ]
    }
   ],
   "source": [
    "response = get_completion(\"Limit the answer to 60 words and make sure it is a complete sentence. What is AI?\", params={\"max_tokens\": 128})\n",
    "print(response)"
   ]
  },
  {
   "cell_type": "code",
   "execution_count": 32,
   "metadata": {},
   "outputs": [
    {
     "name": "stdout",
     "output_type": "stream",
     "text": [
      "params {'stop': ['Q:', 'A:', '\\n'], 'max_tokens': 64}\n",
      "1. The ability of a computer to perform tasks commonly associated with intelligent beings. \n"
     ]
    }
   ],
   "source": [
    "response = get_completion(\"Make sure the answer is end in full sentence. What is AI?\", \n",
    "                          params={\"max_tokens\": 64})\n",
    "print(response)"
   ]
  },
  {
   "cell_type": "code",
   "execution_count": 31,
   "metadata": {},
   "outputs": [
    {
     "name": "stdout",
     "output_type": "stream",
     "text": [
      "params {'stop': ['Q:', 'A:', '\\n'], 'max_tokens': 128}\n",
      "1. In computer science, artificial intelligence (AI) is a branch of computer science which deals with the simulation of intelligent behavior in computers. 2. In computer science, artificial neural network (ANN) is an abstraction of a model that mimics the behaviour of neurons in biological neural networks, such as those used for perception and learning. \n"
     ]
    }
   ],
   "source": [
    "response = get_completion(\"Answer the question. What is AI?\", \n",
    "                          params={\"max_tokens\": 128})\n",
    "print(response)"
   ]
  },
  {
   "attachments": {},
   "cell_type": "markdown",
   "metadata": {},
   "source": [
    "### Conclusion\n",
    "Stop sequences is the preferred way to make sure the generated text most likely end in complete sentence. You can learn more about stop sequences at https://help.openai.com/en/articles/5072263-how-do-i-use-stop-sequences.\n",
    "\n",
    "Otherwise, if the generated text is end in mid-sentence, the user can refresh the answer and the app to send the generated incomplete sentence to the API in order to continue generating the sentence completely."
   ]
  },
  {
   "attachments": {},
   "cell_type": "markdown",
   "metadata": {},
   "source": []
  }
 ],
 "metadata": {
  "kernelspec": {
   "display_name": "venv",
   "language": "python",
   "name": "python3"
  },
  "language_info": {
   "codemirror_mode": {
    "name": "ipython",
    "version": 3
   },
   "file_extension": ".py",
   "mimetype": "text/x-python",
   "name": "python",
   "nbconvert_exporter": "python",
   "pygments_lexer": "ipython3",
   "version": "3.10.6"
  },
  "orig_nbformat": 4
 },
 "nbformat": 4,
 "nbformat_minor": 2
}
