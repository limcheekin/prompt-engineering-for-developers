{
 "cells": [
  {
   "attachments": {},
   "cell_type": "markdown",
   "metadata": {},
   "source": [
    "# Iterative Prompt Develelopment\n",
    "In this lesson, you'll iteratively analyze and refine your prompts to generate marketing copy from a product fact sheet.\n",
    "\n",
    "## Setup"
   ]
  },
  {
   "cell_type": "code",
   "execution_count": 1,
   "metadata": {},
   "outputs": [
    {
     "name": "stdout",
     "output_type": "stream",
     "text": [
      " change the world as we know it. There are going to be many different areas where AI will have a significant impact.\n",
      "AI will have a significant impact in many areas such as healthcare, finance, transportation, education, and many more. AI will be able to solve some of the biggest problems such as climate change, poverty, and hunger. With the advancement in AI, many new job opportunities are opening up, and people who were previously working in non-tech industries are now switching to tech-based jobs. This will lead to a positive impact on the global economy. AI is going to be a game changer in the tech industry, and it's going to lead to a new era of technological advancement.\n"
     ]
    }
   ],
   "source": [
    "# REF: https://www.dev2qa.com/how-to-run-python-script-py-file-in-jupyter-notebook-ipynb-file-and-ipython/\n",
    "%run -i generate.py\n"
   ]
  },
  {
   "attachments": {},
   "cell_type": "markdown",
   "metadata": {},
   "source": [
    "## Generate a marketing product description from a product fact sheet"
   ]
  },
  {
   "cell_type": "code",
   "execution_count": 2,
   "metadata": {},
   "outputs": [],
   "source": [
    "fact_sheet_chair = \"\"\"\n",
    "OVERVIEW\n",
    "- Part of a beautiful family of mid-century inspired office furniture, \n",
    "including filing cabinets, desks, bookcases, meeting tables, and more.\n",
    "- Several options of shell color and base finishes.\n",
    "- Available with plastic back and front upholstery (SWC-100) \n",
    "or full upholstery (SWC-110) in 10 fabric and 6 leather options.\n",
    "- Base finish options are: stainless steel, matte black, \n",
    "gloss white, or chrome.\n",
    "- Chair is available with or without armrests.\n",
    "- Suitable for home or business settings.\n",
    "- Qualified for contract use.\n",
    "\n",
    "CONSTRUCTION\n",
    "- 5-wheel plastic coated aluminum base.\n",
    "- Pneumatic chair adjust for easy raise/lower action.\n",
    "\n",
    "DIMENSIONS\n",
    "- WIDTH 53 CM | 20.87”\n",
    "- DEPTH 51 CM | 20.08”\n",
    "- HEIGHT 80 CM | 31.50”\n",
    "- SEAT HEIGHT 44 CM | 17.32”\n",
    "- SEAT DEPTH 41 CM | 16.14”\n",
    "\n",
    "OPTIONS\n",
    "- Soft or hard-floor caster options.\n",
    "- Two choices of seat foam densities: \n",
    " medium (1.8 lb/ft3) or high (2.8 lb/ft3)\n",
    "- Armless or 8 position PU armrests \n",
    "\n",
    "MATERIALS\n",
    "SHELL BASE GLIDER\n",
    "- Cast Aluminum with modified nylon PA6/PA66 coating.\n",
    "- Shell thickness: 10 mm.\n",
    "SEAT\n",
    "- HD36 foam\n",
    "\n",
    "COUNTRY OF ORIGIN\n",
    "- Italy\n",
    "\"\"\""
   ]
  },
  {
   "cell_type": "code",
   "execution_count": 3,
   "metadata": {},
   "outputs": [
    {
     "data": {
      "text/plain": [
       "\"Introducing the Overview Series, a beautiful addition to your office furniture collection. This mid-century inspired collection is a perfect blend of functionality and style. The sleek, molded-in-concrete 5-wheel base and the ergonomic, pneumatic power action chair make it the perfect choice for professionals on the go. The 5-wheel plastic coated aluminum base, combined with the high-quality, durable wood construction, ensures that your Overview Series piece will withstand the test of time.\\n\\nAvailable in several shell color options and base finishes, you can personalize your Overview Series piece to fit your specific needs. The wide range of options available ensures that you can find the perfect fit for your home or business. With a width of 53 cm, a depth of 51 cm, a height of 80 cm, and a seat height of 44 cm, you'll have the perfect setup for a comfortable workspace.\\n\\nThe Overview Series is made with the finest materials available, ensuring\""
      ]
     },
     "execution_count": 3,
     "metadata": {},
     "output_type": "execute_result"
    }
   ],
   "source": [
    "prompt = f\"\"\"\n",
    "Your task is to help a marketing team create a \n",
    "description for a retail website of a product based \n",
    "on a technical fact sheet.\n",
    "\n",
    "Write a product description based on the information \n",
    "provided in the technical specifications delimited by \n",
    "triple backticks.\n",
    "\n",
    "Technical specifications: ```{fact_sheet_chair}```\n",
    "\"\"\"\n",
    "response = get_completion(prompt)\n",
    "\n",
    "response"
   ]
  },
  {
   "attachments": {},
   "cell_type": "markdown",
   "metadata": {},
   "source": [
    "## Issue 1: The text is too long \n",
    "- Limit the number of words/sentences/characters."
   ]
  },
  {
   "cell_type": "code",
   "execution_count": 4,
   "metadata": {},
   "outputs": [
    {
     "data": {
      "text/plain": [
       "\"OVERVIEW\\n\\nThe `Overview` section is a brief introduction to the product and its purpose. It includes a statement about the product's origin and its intended use.\\n\\nFEATURES\\n\\nThe `Features` section provides a detailed list of all the features of the product, including its size, material, design, and functionality. Each feature is described in detail, including any options or variations that may be available.\\n\\nDETAILED DESCRIPTION\\n\\nThe `Detailed Description` section provides a detailed description of the product, including measurements, specifications, and quality.\\n\\nPricing and Availability\\n\\nThe `Pricing and Availability` section includes information about the product's price and availability. It includes a description of the product's price points and any limited availability options.\\n\\nQUALITY AND WARRANTY\\n\\nThe `Quality and Warranty` section includes information about the product's quality and warranty options. It includes a description of the product's warranty terms\""
      ]
     },
     "execution_count": 4,
     "metadata": {},
     "output_type": "execute_result"
    }
   ],
   "source": [
    "prompt = f\"\"\"\n",
    "Your task is to help a marketing team create a \n",
    "description for a retail website of a product based \n",
    "on a technical fact sheet.\n",
    "\n",
    "Write a product description based on the information \n",
    "provided in the technical specifications delimited by \n",
    "triple backticks.\n",
    "\n",
    "Use at most 50 words.\n",
    "\n",
    "Technical specifications: ```{fact_sheet_chair}```\n",
    "\"\"\"\n",
    "response = get_completion(prompt)\n",
    "\n",
    "response"
   ]
  },
  {
   "cell_type": "code",
   "execution_count": 5,
   "metadata": {},
   "outputs": [
    {
     "data": {
      "text/plain": [
       "128"
      ]
     },
     "execution_count": 5,
     "metadata": {},
     "output_type": "execute_result"
    }
   ],
   "source": [
    "len(response.split(\" \"))"
   ]
  },
  {
   "attachments": {},
   "cell_type": "markdown",
   "metadata": {},
   "source": [
    "## Issue 2. Text focuses on the wrong details\n",
    "- Ask it to focus on the aspects that are relevant to the intended audience."
   ]
  },
  {
   "cell_type": "code",
   "execution_count": 6,
   "metadata": {},
   "outputs": [
    {
     "data": {
      "text/plain": [
       "'OVERVIEW\\nThis furniture collection is part of a larger family of mid-century inspired office furniture, featuring various options of shell colors and base finishes. The base finishes include stainless steel, matte black, glossy white, and chrome. The chairs are available with or without armrests, and there are two options of seat foam densities: medium and high. The armrests can be made from either a soft or hard-floor caster, and the seats are made from HD36 foam. The shell base glimmers in silver and is cast aluminum with a modified nylon PA6/PA66 coating, while the shell thickness is 10mm. The furniture is suitable for both home and business settings, with a wide range of quality options for contract use.\\n\\nSITES\\nThis furniture collection is designed for use in a home or business setting, and can be customized to fit specific needs. The chairs are available with or without armrests, and there are two options of seat foam dens'"
      ]
     },
     "execution_count": 6,
     "metadata": {},
     "output_type": "execute_result"
    }
   ],
   "source": [
    "prompt = f\"\"\"\n",
    "Your task is to help a marketing team create a \n",
    "description for a retail website of a product based \n",
    "on a technical fact sheet.\n",
    "\n",
    "Write a product description based on the information \n",
    "provided in the technical specifications delimited by \n",
    "triple backticks.\n",
    "\n",
    "The description is intended for furniture retailers, \n",
    "so should be technical in nature and focus on the \n",
    "materials the product is constructed from.\n",
    "\n",
    "Use at most 50 words.\n",
    "\n",
    "Technical specifications: ```{fact_sheet_chair}```\n",
    "\"\"\"\n",
    "response = get_completion(prompt)\n",
    "\n",
    "response"
   ]
  },
  {
   "cell_type": "code",
   "execution_count": 7,
   "metadata": {},
   "outputs": [
    {
     "data": {
      "text/plain": [
       "\"Product Description:\\n\\nOVERVIEW\\n- A beautiful family of mid-century inspired office furniture, designed to bring a touch of elegance and style to any workspace.\\n- The product is constructed from several options of shell color and base finishes, including stainless steel, matte black, and chrome.\\n- Several options of plastic back and front upholstery are available, including SWC-100 and SWC-110.\\n- The chair is available with or without armrests, and is suitable for both home and business settings.\\n- The product is qualified for contract use.\\n\\nBASE\\n- The product is available with 5-wheel plastic coated aluminum bases.\\n- The product is pneumatic, allowing for easy raise and lower action.\\n\\nSEAT\\n- The product features a choice of two seat foam densities, medium and high.\\n- The product also has two choices of seat foam densities for the armrests.\\n- The product's\""
      ]
     },
     "execution_count": 7,
     "metadata": {},
     "output_type": "execute_result"
    }
   ],
   "source": [
    "prompt = f\"\"\"\n",
    "Your task is to help a marketing team create a \n",
    "description for a retail website of a product based \n",
    "on a technical fact sheet.\n",
    "\n",
    "Write a product description based on the information \n",
    "provided in the technical specifications delimited by \n",
    "triple backticks.\n",
    "\n",
    "The description is intended for furniture retailers, \n",
    "so should be technical in nature and focus on the \n",
    "materials the product is constructed from.\n",
    "\n",
    "At the end of the description, include every 7-character \n",
    "Product ID in the technical specification.\n",
    "\n",
    "Use at most 50 words.\n",
    "\n",
    "Technical specifications: ```{fact_sheet_chair}```\n",
    "\"\"\"\n",
    "response = get_completion(prompt)\n",
    "\n",
    "response"
   ]
  },
  {
   "attachments": {},
   "cell_type": "markdown",
   "metadata": {},
   "source": [
    "## Issue 3. Description needs a table of dimensions\n",
    "- Ask it to extract information and organize it in a table."
   ]
  },
  {
   "cell_type": "code",
   "execution_count": 8,
   "metadata": {},
   "outputs": [
    {
     "data": {
      "text/plain": [
       "'<html>\\n<head>\\n\\t<title>Product Description</title>\\n\\t<style>\\n\\t\\t.container {\\n\\t\\t\\tdisplay: flex;\\n\\t\\t\\tjustify-content: center;\\n\\t\\t\\tmargin-bottom: 30px;\\n\\t\\t}\\n\\n\\t\\t.description {\\n\\t\\t\\tdisplay: flex;\\n\\t\\t\\tflex-direction: column;\\n\\t\\t\\tmargin-top: 20px;\\n\\t\\t\\tmargin-bottom: 30px;\\n\\t\\t}\\n\\n\\t\\t.row {\\n\\t\\t\\tdisplay: flex;\\n\\t\\t\\tflex-direction: column;\\n\\t\\t\\tmargin-bottom: 30px;\\n\\t\\t}\\n\\n\\t\\t.row .column {\\n\\t\\t\\tdisplay: flex;\\n\\t\\t\\tflex-direction: column;\\n\\t\\t\\tpadding-bottom: 30px;\\n\\t\\t\\ttext-align: center;\\n\\t'"
      ]
     },
     "execution_count": 8,
     "metadata": {},
     "output_type": "execute_result"
    }
   ],
   "source": [
    "prompt = f\"\"\"\n",
    "Your task is to help a marketing team create a \n",
    "description for a retail website of a product based \n",
    "on a technical fact sheet.\n",
    "\n",
    "Write a product description based on the information \n",
    "provided in the technical specifications delimited by \n",
    "triple backticks.\n",
    "\n",
    "The description is intended for furniture retailers, \n",
    "so should be technical in nature and focus on the \n",
    "materials the product is constructed from.\n",
    "\n",
    "At the end of the description, include every 7-character \n",
    "Product ID in the technical specification.\n",
    "\n",
    "After the description, include a table that gives the \n",
    "product's dimensions. The table should have two columns.\n",
    "In the first column include the name of the dimension. \n",
    "In the second column include the measurements in inches only.\n",
    "\n",
    "Give the table the title 'Product Dimensions'.\n",
    "\n",
    "Format everything as HTML that can be used in a website. \n",
    "Place the description in a <div> element.\n",
    "\n",
    "Technical specifications: ```{fact_sheet_chair}```\n",
    "\"\"\"\n",
    "\n",
    "response = get_completion(prompt)\n",
    "\n",
    "response"
   ]
  },
  {
   "cell_type": "markdown",
   "metadata": {},
   "source": [
    "## Load Python libraries to view HTML"
   ]
  },
  {
   "cell_type": "code",
   "execution_count": 9,
   "metadata": {},
   "outputs": [
    {
     "data": {
      "text/html": [
       "<html>\n",
       "<head>\n",
       "\t<title>Product Description</title>\n",
       "\t<style>\n",
       "\t\t.container {\n",
       "\t\t\tdisplay: flex;\n",
       "\t\t\tjustify-content: center;\n",
       "\t\t\tmargin-bottom: 30px;\n",
       "\t\t}\n",
       "\n",
       "\t\t.description {\n",
       "\t\t\tdisplay: flex;\n",
       "\t\t\tflex-direction: column;\n",
       "\t\t\tmargin-top: 20px;\n",
       "\t\t\tmargin-bottom: 30px;\n",
       "\t\t}\n",
       "\n",
       "\t\t.row {\n",
       "\t\t\tdisplay: flex;\n",
       "\t\t\tflex-direction: column;\n",
       "\t\t\tmargin-bottom: 30px;\n",
       "\t\t}\n",
       "\n",
       "\t\t.row .column {\n",
       "\t\t\tdisplay: flex;\n",
       "\t\t\tflex-direction: column;\n",
       "\t\t\tpadding-bottom: 30px;\n",
       "\t\t\ttext-align: center;\n",
       "\t"
      ],
      "text/plain": [
       "<IPython.core.display.HTML object>"
      ]
     },
     "metadata": {},
     "output_type": "display_data"
    }
   ],
   "source": [
    "from IPython.display import display, HTML\n",
    "display(HTML(response))"
   ]
  },
  {
   "attachments": {},
   "cell_type": "markdown",
   "metadata": {},
   "source": [
    "## Try experimenting on your own!"
   ]
  },
  {
   "cell_type": "code",
   "execution_count": null,
   "metadata": {},
   "outputs": [],
   "source": []
  }
 ],
 "metadata": {
  "kernelspec": {
   "display_name": "venv",
   "language": "python",
   "name": "python3"
  },
  "language_info": {
   "codemirror_mode": {
    "name": "ipython",
    "version": 3
   },
   "file_extension": ".py",
   "mimetype": "text/x-python",
   "name": "python",
   "nbconvert_exporter": "python",
   "pygments_lexer": "ipython3",
   "version": "3.10.6"
  },
  "orig_nbformat": 4
 },
 "nbformat": 4,
 "nbformat_minor": 2
}
